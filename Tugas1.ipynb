{
  "nbformat": 4,
  "nbformat_minor": 0,
  "metadata": {
    "colab": {
      "provenance": [],
      "authorship_tag": "ABX9TyPAcNaXEL7nBwdIy7/Y8wvf",
      "include_colab_link": true
    },
    "kernelspec": {
      "name": "python3",
      "display_name": "Python 3"
    },
    "language_info": {
      "name": "python"
    }
  },
  "cells": [
    {
      "cell_type": "markdown",
      "metadata": {
        "id": "view-in-github",
        "colab_type": "text"
      },
      "source": [
        "<a href=\"https://colab.research.google.com/github/aria05roblox/kimia-skz/blob/main/Tugas1.ipynb\" target=\"_parent\"><img src=\"https://colab.research.google.com/assets/colab-badge.svg\" alt=\"Open In Colab\"/></a>"
      ]
    },
    {
      "cell_type": "markdown",
      "source": [
        "# **Struktur Dasar**"
      ],
      "metadata": {
        "id": "lwdjxuNzHAyI"
      }
    },
    {
      "cell_type": "code",
      "source": [
        "A = int(input('Hai: ')) # Ini input A\n",
        "B = int(input('Hai: '))\n",
        "\n",
        "A = A + B\n",
        "\n",
        "print(A)\n",
        "print(B)"
      ],
      "metadata": {
        "colab": {
          "base_uri": "https://localhost:8080/"
        },
        "id": "JtJ7Wk6HD6XW",
        "outputId": "9107a6bd-dc13-4b37-cac8-0acb0fd9098c"
      },
      "execution_count": 9,
      "outputs": [
        {
          "output_type": "stream",
          "name": "stdout",
          "text": [
            "Hai: 5\n",
            "Hai: 3\n",
            "8\n",
            "3\n"
          ]
        }
      ]
    },
    {
      "cell_type": "code",
      "source": [
        "a = 'B'\n",
        "ord(a)"
      ],
      "metadata": {
        "colab": {
          "base_uri": "https://localhost:8080/"
        },
        "id": "jjIh2ZhrLA4t",
        "outputId": "43985bc3-19b9-40f6-c7c8-a815173147be"
      },
      "execution_count": 24,
      "outputs": [
        {
          "output_type": "execute_result",
          "data": {
            "text/plain": [
              "66"
            ]
          },
          "metadata": {},
          "execution_count": 24
        }
      ]
    },
    {
      "cell_type": "code",
      "source": [
        "i = 100\n",
        "a = i * 50\n",
        "a"
      ],
      "metadata": {
        "colab": {
          "base_uri": "https://localhost:8080/"
        },
        "id": "IF8hoAbmJ4e7",
        "outputId": "9b074ac3-b7f2-4649-c0e8-6275931caf65"
      },
      "execution_count": 17,
      "outputs": [
        {
          "output_type": "execute_result",
          "data": {
            "text/plain": [
              "5000"
            ]
          },
          "metadata": {},
          "execution_count": 17
        }
      ]
    },
    {
      "cell_type": "code",
      "source": [
        "A = 10\n",
        "\n",
        "print(A)\n",
        "print('Hello')\n",
        "print(A * 4)\n",
        "print(\"Hello World \" + str(A))"
      ],
      "metadata": {
        "colab": {
          "base_uri": "https://localhost:8080/"
        },
        "id": "VoPrqhBnLvBe",
        "outputId": "51ff5acc-1c89-43ee-dae6-e2e2c20f4be9"
      },
      "execution_count": 31,
      "outputs": [
        {
          "output_type": "stream",
          "name": "stdout",
          "text": [
            "10\n",
            "Hello\n",
            "40\n",
            "Hello World 10\n"
          ]
        }
      ]
    },
    {
      "cell_type": "code",
      "source": [
        "A : int\n",
        "B : float\n",
        "A = 5\n",
        "B = 3.5\n",
        "print(type(A))\n",
        "print(type(B))\n",
        "A + B"
      ],
      "metadata": {
        "colab": {
          "base_uri": "https://localhost:8080/"
        },
        "id": "L3PJowytMg45",
        "outputId": "0157f407-e9f4-482d-881b-c17db4f3065d"
      },
      "execution_count": 37,
      "outputs": [
        {
          "output_type": "stream",
          "name": "stdout",
          "text": [
            "<class 'int'>\n",
            "<class 'float'>\n"
          ]
        },
        {
          "output_type": "execute_result",
          "data": {
            "text/plain": [
              "8.5"
            ]
          },
          "metadata": {},
          "execution_count": 37
        }
      ]
    },
    {
      "cell_type": "code",
      "source": [
        "CA : str\n",
        "CA = 'C' # (7)\n",
        "print(type(CA))"
      ],
      "metadata": {
        "colab": {
          "base_uri": "https://localhost:8080/"
        },
        "id": "A_pN6EYQNarp",
        "outputId": "a53f1846-a11d-4c36-cf50-e6ecb601b771"
      },
      "execution_count": 51,
      "outputs": [
        {
          "output_type": "stream",
          "name": "stdout",
          "text": [
            "<class 'str'>\n"
          ]
        }
      ]
    },
    {
      "cell_type": "code",
      "source": [
        "a = 3\n",
        "b = 2\n",
        "\n",
        "print(a // b)\n",
        "print(a / b)"
      ],
      "metadata": {
        "colab": {
          "base_uri": "https://localhost:8080/"
        },
        "id": "iDBF8Gz6RheU",
        "outputId": "3abb1d11-93b9-410b-9bda-23ecbc8f480b"
      },
      "execution_count": 52,
      "outputs": [
        {
          "output_type": "stream",
          "name": "stdout",
          "text": [
            "1\n",
            "1.5\n"
          ]
        }
      ]
    },
    {
      "cell_type": "code",
      "source": [
        "# Deklarasi variabel\n",
        "A = 10\n",
        "B = 21\n",
        "\n",
        "print(\"A =\", A, \"B =\", B)\n",
        "\n",
        "# Operator relasional\n",
        "print(\"A == B :\", A == B)   # sama dengan\n",
        "print(\"A != B :\", A != B)   # tidak sama dengan\n",
        "print(\"A > B  :\", A > B)    # lebih besar\n",
        "print(\"A < B  :\", A < B)    # lebih kecil\n",
        "print(\"A >= B :\", A >= B)   # lebih besar atau sama dengan\n",
        "print(\"A <= B :\", A <= B)   # lebih kecil atau sama dengan\n"
      ],
      "metadata": {
        "colab": {
          "base_uri": "https://localhost:8080/"
        },
        "id": "_CrTsW5nSLFP",
        "outputId": "1d63697f-291d-4464-cbac-6d928909442a"
      },
      "execution_count": 53,
      "outputs": [
        {
          "output_type": "stream",
          "name": "stdout",
          "text": [
            "A = 10 B = 21\n",
            "A == B : False\n",
            "A != B : True\n",
            "A > B  : False\n",
            "A < B  : True\n",
            "A >= B : False\n",
            "A <= B : True\n"
          ]
        }
      ]
    },
    {
      "cell_type": "code",
      "source": [
        "a = True\n",
        "b = False\n",
        "a or b"
      ],
      "metadata": {
        "colab": {
          "base_uri": "https://localhost:8080/"
        },
        "id": "H7-4V_PISera",
        "outputId": "aed54510-d29d-4b84-c503-f735cb20a292"
      },
      "execution_count": 54,
      "outputs": [
        {
          "output_type": "execute_result",
          "data": {
            "text/plain": [
              "True"
            ]
          },
          "metadata": {},
          "execution_count": 54
        }
      ]
    },
    {
      "cell_type": "code",
      "source": [
        "a = 50\n",
        "if a == 50:\n",
        "  print('Halo')\n",
        "else:\n",
        "  print('Not 50')"
      ],
      "metadata": {
        "colab": {
          "base_uri": "https://localhost:8080/"
        },
        "id": "7k59v-wOUzXl",
        "outputId": "be0749ed-df69-4910-c124-fd1fe57b1181"
      },
      "execution_count": 57,
      "outputs": [
        {
          "output_type": "stream",
          "name": "stdout",
          "text": [
            "Halo\n"
          ]
        }
      ]
    },
    {
      "cell_type": "code",
      "source": [
        "a = 50\n",
        "# TODO: Write Circle Formula\n",
        "output = a * 3.14 * 2\n",
        "print(output)"
      ],
      "metadata": {
        "colab": {
          "base_uri": "https://localhost:8080/"
        },
        "id": "rhs4Q5osVImF",
        "outputId": "968e496c-ee48-49bb-dd03-b88162764762"
      },
      "execution_count": 58,
      "outputs": [
        {
          "output_type": "stream",
          "name": "stdout",
          "text": [
            "314.0\n"
          ]
        }
      ]
    },
    {
      "cell_type": "markdown",
      "source": [
        "# **Tugas**"
      ],
      "metadata": {
        "id": "RhJ8HiTTVkDU"
      }
    },
    {
      "cell_type": "code",
      "source": [
        "# @title Tugas 1\n",
        "v = int(input(\"Masukan Kecepatan: \"))\n",
        "t = int(input(\"Masukan Waktu Tempuh: \"))\n",
        "\n",
        "s = v * t\n",
        "print(f\"Jarak yang dapat ditempuh sejauh {str(s)}\")"
      ],
      "metadata": {
        "colab": {
          "base_uri": "https://localhost:8080/"
        },
        "id": "-lhMUg_tVni9",
        "outputId": "aa122dae-5fe2-426e-e794-77bf238775a7"
      },
      "execution_count": 66,
      "outputs": [
        {
          "output_type": "stream",
          "name": "stdout",
          "text": [
            "Masukan Kecepatan: 50\n",
            "Masukan Waktu Tempuh: 5\n",
            "Jarak yang dapat ditempuh sejauh 250\n"
          ]
        }
      ]
    },
    {
      "cell_type": "code",
      "source": [
        "# @title Tugas 2\n",
        "Alas = int(input(\"Masukan Alas: \"))\n",
        "Tinggi = int(input(\"Masukan Tinggi: \"))\n",
        "\n",
        "Luas = 0.5 * Alas * Tinggi\n",
        "print(f\"Luas Segitiga adalah {str(Luas)}\")"
      ],
      "metadata": {
        "id": "CGZhHJMNYnrg",
        "outputId": "15997d96-f92d-4ae8-ee8f-e2b822b0df04",
        "colab": {
          "base_uri": "https://localhost:8080/"
        }
      },
      "execution_count": 67,
      "outputs": [
        {
          "output_type": "stream",
          "name": "stdout",
          "text": [
            "Masukan Alas: 5\n",
            "Masukan Tinggi: 5\n",
            "Luas Segitiga adalah 12.5\n"
          ]
        }
      ]
    },
    {
      "cell_type": "code",
      "source": [
        "# @title Tugas 3\n",
        "merah = int(input(\"Kelereng merah: \"))\n",
        "hijau = int(input(\"Kelereng hijau: \"))\n",
        "kuning = int(input(\"Kelereng kuning: \"))\n",
        "\n",
        "if merah < 0 or hijau < 0 or kuning < 0:\n",
        "  print(\"Variable tidak boleh negatif\")\n",
        "else:\n",
        "  merah *= 1000\n",
        "  hijau *= 1500\n",
        "  kuning *= 2000\n",
        "\n",
        "  total = merah + hijau + kuning\n",
        "  print(f\"Total yang harus dibayar adalah {str(total)}\")"
      ],
      "metadata": {
        "id": "h1UAA7BJZzy0",
        "outputId": "ffb6807f-44dd-406b-9419-10471b0b1d17",
        "colab": {
          "base_uri": "https://localhost:8080/"
        }
      },
      "execution_count": 70,
      "outputs": [
        {
          "output_type": "stream",
          "name": "stdout",
          "text": [
            "Kelereng merah: 45\n",
            "Kelereng hijau: 4\n",
            "Kelereng kuning: -5\n",
            "Variable tidak boleh negatif\n"
          ]
        }
      ]
    }
  ]
}